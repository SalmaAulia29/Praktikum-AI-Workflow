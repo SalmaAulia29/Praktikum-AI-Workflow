{
  "nbformat": 4,
  "nbformat_minor": 0,
  "metadata": {
    "colab": {
      "provenance": [],
      "authorship_tag": "ABX9TyNOJJfIE2G89z7kBhvKP40L",
      "include_colab_link": true
    },
    "kernelspec": {
      "name": "python3",
      "display_name": "Python 3"
    },
    "language_info": {
      "name": "python"
    }
  },
  "cells": [
    {
      "cell_type": "markdown",
      "metadata": {
        "id": "view-in-github",
        "colab_type": "text"
      },
      "source": [
        "<a href=\"https://colab.research.google.com/github/SalmaAulia29/Praktikum-AI-Workflow/blob/main/P1_Data_penjualan_Latihan_2306138_PRKKCB.ipynb\" target=\"_parent\"><img src=\"https://colab.research.google.com/assets/colab-badge.svg\" alt=\"Open In Colab\"/></a>"
      ]
    },
    {
      "cell_type": "code",
      "execution_count": null,
      "metadata": {
        "colab": {
          "base_uri": "https://localhost:8080/"
        },
        "id": "WxjSLHVxe8nj",
        "outputId": "a6e828e5-c705-4509-c842-6b08387b80b0"
      },
      "outputs": [
        {
          "output_type": "stream",
          "name": "stdout",
          "text": [
            "File CSV berhasil dibuat dan disimpan sebaai 'data_penjualan_Latihan.csv'!\n"
          ]
        }
      ],
      "source": [
        "import pandas as pd\n",
        "\n",
        "#buat data penjualan toko\n",
        "data = {\n",
        "    \"tanggal\": [\"2025-03-04\",\"2025-03-04\",\"2025-03-04\",\"2025-03-05\",\"2025-03-05\",\"2025-03-05\",\"2025-03-06\",\"2025-03-06\",\"2025-03-06\",\"2025-03-07\"],\n",
        "    \"Produk\" : [\"Busi\",\"Oli\",\"Lampu\",\"Carbu Cleaner\",\"Boring\",\"Klep\",\"Shockbreaker\",\"vanbelt\",\"ROller\",\"PerCVT\"],\n",
        "    \"Jumlah Terjual\" : [10,4,3,15,2,8,3,5,6,18],\n",
        "    \"Stok\" : [20,15,10,30,10,15,13,18,20,40],\n",
        "    \"Harga Satuan\" : [15000,50000,10000,35000,100000,90000,150000,60000,45000,70000],\n",
        "\n",
        "}\n",
        "\n",
        "# Simpan dalam DataFrame\n",
        "df = pd.DataFrame(data)\n",
        "\n",
        "# Simpan sebagai file csv\n",
        "df.to_csv(\"data_penjualan_Latihan.csv\", index=False)\n",
        "\n",
        "print(\"File CSV berhasil dibuat dan disimpan sebaai 'data_penjualan_Latihan.csv'!\")"
      ]
    },
    {
      "cell_type": "code",
      "source": [
        "# membaca file CSV\n",
        "df = pd.read_csv(\"data_penjualan_Latihan.csv\")\n",
        "\n",
        "# menampilkan 5 data kolom utama penjualanSparepart\n",
        "print(df.head())"
      ],
      "metadata": {
        "colab": {
          "base_uri": "https://localhost:8080/"
        },
        "id": "LQbH4hwPiyVR",
        "outputId": "f52a35f8-05d0-4419-91a5-c0e77d3a1b6b"
      },
      "execution_count": null,
      "outputs": [
        {
          "output_type": "stream",
          "name": "stdout",
          "text": [
            "      tanggal         Produk  Jumlah Terjual  Stok  Harga Satuan\n",
            "0  2025-03-04           Busi              10    20         15000\n",
            "1  2025-03-04            Oli               4    15         50000\n",
            "2  2025-03-04          Lampu               3    10         10000\n",
            "3  2025-03-05  Carbu Cleaner              15    30         35000\n",
            "4  2025-03-05         Boring               2    10        100000\n"
          ]
        }
      ]
    },
    {
      "cell_type": "code",
      "source": [
        "# Cek apakah ada data yang kosong\n",
        "print(df.isnull().sum())\n",
        "\n",
        "# Konversi Kolom \"tanggal\" ke  format datetime\n",
        "df[\"tanggal\"] = pd.to_datetime(df[\"tanggal\"])\n",
        "\n",
        "# Tambhakan kolom\"Total Penjualan\"\n",
        "df[\"Total Penjualan\"] = df[\"Jumlah Terjual\"] * df[\"Harga Satuan\"]\n",
        "\n",
        "# tambahkan Kolom \"Keuntungan\" (asumsi modal 10.000 per produk)\n",
        "df[\"Keuntungan\"] = df[\"Total Penjualan\"] -(df[\"Jumlah Terjual\"] * 10000)\n",
        "\n",
        "# Menampilkan hasil transformasi\n",
        "print(df.head())"
      ],
      "metadata": {
        "colab": {
          "base_uri": "https://localhost:8080/"
        },
        "id": "s3QB9OCwktcv",
        "outputId": "8c8cbae0-e65f-4db6-a483-66b26f322f68"
      },
      "execution_count": null,
      "outputs": [
        {
          "output_type": "stream",
          "name": "stdout",
          "text": [
            "tanggal           0\n",
            "Produk            0\n",
            "Jumlah Terjual    0\n",
            "Stok              0\n",
            "Harga Satuan      0\n",
            "dtype: int64\n",
            "     tanggal         Produk  Jumlah Terjual  Stok  Harga Satuan  \\\n",
            "0 2025-03-04           Busi              10    20         15000   \n",
            "1 2025-03-04            Oli               4    15         50000   \n",
            "2 2025-03-04          Lampu               3    10         10000   \n",
            "3 2025-03-05  Carbu Cleaner              15    30         35000   \n",
            "4 2025-03-05         Boring               2    10        100000   \n",
            "\n",
            "   Total Penjualan  Keuntungan  \n",
            "0           150000       50000  \n",
            "1           200000      160000  \n",
            "2            30000           0  \n",
            "3           525000      375000  \n",
            "4           200000      180000  \n"
          ]
        }
      ]
    },
    {
      "cell_type": "code",
      "source": [
        "!pip install scikit-learn"
      ],
      "metadata": {
        "colab": {
          "base_uri": "https://localhost:8080/"
        },
        "id": "TEF6Crxtls6V",
        "outputId": "dd79db90-c780-455c-ec86-e633284b70e2"
      },
      "execution_count": null,
      "outputs": [
        {
          "output_type": "stream",
          "name": "stdout",
          "text": [
            "Requirement already satisfied: scikit-learn in /usr/local/lib/python3.11/dist-packages (1.6.1)\n",
            "Requirement already satisfied: numpy>=1.19.5 in /usr/local/lib/python3.11/dist-packages (from scikit-learn) (1.26.4)\n",
            "Requirement already satisfied: scipy>=1.6.0 in /usr/local/lib/python3.11/dist-packages (from scikit-learn) (1.13.1)\n",
            "Requirement already satisfied: joblib>=1.2.0 in /usr/local/lib/python3.11/dist-packages (from scikit-learn) (1.4.2)\n",
            "Requirement already satisfied: threadpoolctl>=3.1.0 in /usr/local/lib/python3.11/dist-packages (from scikit-learn) (3.5.0)\n"
          ]
        }
      ]
    },
    {
      "cell_type": "code",
      "source": [
        "from sklearn.model_selection import train_test_split\n",
        "from sklearn.tree import DecisionTreeClassifier\n",
        "from sklearn.metrics import accuracy_score\n",
        "\n",
        "# pilih fitur (x) dan target (y)\n",
        "x= df[[\"Jumlah Terjual\",\"Stok\"]]\n",
        "y= (df[\"Stok\"] < 5).astype(int) # 1 jika stok kurang dari 5, 0 jika cukup\n",
        "\n",
        "#split data menjadi train dan test\n",
        "X_train, X_test, y_train, y_test = train_test_split(x,y, test_size=0.2, random_state=42)\n",
        "\n",
        "# buat model Decision tree\n",
        "model = DecisionTreeClassifier()\n",
        "model.fit(X_train, y_train)\n",
        "\n",
        "# Evaluasi Model\n",
        "y_pred = model.predict(X_test)\n",
        "print(\"Akurasi Model:\", accuracy_score(y_test, y_pred))"
      ],
      "metadata": {
        "colab": {
          "base_uri": "https://localhost:8080/"
        },
        "id": "oy6Se9rVlvC6",
        "outputId": "7f0a9549-2194-45db-ab5d-7c611f273491"
      },
      "execution_count": null,
      "outputs": [
        {
          "output_type": "stream",
          "name": "stdout",
          "text": [
            "Akurasi Model: 1.0\n"
          ]
        }
      ]
    },
    {
      "cell_type": "code",
      "source": [
        "produk_baru = [[8,3]]\n",
        "prediksi = model.predict(produk_baru)\n",
        "\n",
        "if prediksi[0] == 1:\n",
        "  print(\"Stok Masih Cukup\")\n",
        "else:\n",
        "  print(\"produk perlu di-restock\")"
      ],
      "metadata": {
        "colab": {
          "base_uri": "https://localhost:8080/"
        },
        "id": "TCnr_uDPpiuq",
        "outputId": "bc0efe79-af71-4c82-afd5-e3df1eb50ea7"
      },
      "execution_count": null,
      "outputs": [
        {
          "output_type": "stream",
          "name": "stdout",
          "text": [
            "produk perlu di-restock\n"
          ]
        },
        {
          "output_type": "stream",
          "name": "stderr",
          "text": [
            "/usr/local/lib/python3.11/dist-packages/sklearn/utils/validation.py:2739: UserWarning: X does not have valid feature names, but DecisionTreeClassifier was fitted with feature names\n",
            "  warnings.warn(\n"
          ]
        }
      ]
    },
    {
      "cell_type": "code",
      "source": [
        "import matplotlib.pyplot as plt\n",
        "\n",
        "plt.scatter(df[\"Jumlah Terjual\"], df[\"Stok\"], c=df[\"Keuntungan\"], cmap=\"coolwarm\")\n",
        "plt.xlabel(\"Jumlah Terjual\")\n",
        "plt.ylabel(\"Stok\")\n",
        "plt.title(\"Analisis Penjualan dan Stok\")\n",
        "plt.colorbar(label=\"keuntungan\")\n",
        "plt.show()"
      ],
      "metadata": {
        "colab": {
          "base_uri": "https://localhost:8080/",
          "height": 472
        },
        "id": "CDj0urbcrDFl",
        "outputId": "9352ec10-ef1b-43d3-8be0-961b15fc2f46"
      },
      "execution_count": null,
      "outputs": [
        {
          "output_type": "display_data",
          "data": {
            "text/plain": [
              "<Figure size 640x480 with 2 Axes>"
            ],
            "image/png": "[encoded data removed]"
          },
          "metadata": {}
        }
      ]
    }
  ]
}